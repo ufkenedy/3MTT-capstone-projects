{
  "metadata": {
    "kernelspec": {
      "language": "python",
      "display_name": "Python 3",
      "name": "python3"
    },
    "language_info": {
      "pygments_lexer": "ipython3",
      "nbconvert_exporter": "python",
      "version": "3.6.4",
      "file_extension": ".py",
      "codemirror_mode": {
        "name": "ipython",
        "version": 3
      },
      "name": "python",
      "mimetype": "text/x-python"
    },
    "colab": {
      "name": "COVID 19 EDA and Visualizations",
      "provenance": []
    }
  },
  "nbformat_minor": 0,
  "nbformat": 4,
  "cells": [
    {
      "source": [
        "\n",
        "import kagglehub\n",
        "imdevskp_corona_virus_report_path = kagglehub.dataset_download('imdevskp/corona-virus-report')\n",
        "\n",
        "print('Data source import complete.')\n"
      ],
      "metadata": {
        "id": "QDm2P_u6FjZl"
      },
      "cell_type": "code",
      "outputs": [],
      "execution_count": null
    },
    {
      "cell_type": "markdown",
      "source": [
        "# Importing the necessary packages"
      ],
      "metadata": {
        "id": "dmo4WyJJFjZn"
      }
    },
    {
      "cell_type": "code",
      "source": [
        "\n",
        "import numpy as np # linear algebra\n",
        "import pandas as pd # data processing, CSV file I/O (e.g. pd.read_csv)\n",
        "\n",
        "\n",
        "import os\n",
        "for dirname, _, filenames in os.walk('/kaggle/input'):\n",
        "    for filename in filenames:\n",
        "        print(os.path.join(dirname, filename))\n"
      ],
      "metadata": {
        "_uuid": "8f2839f25d086af736a60e9eeb907d3b93b6e0e5",
        "_cell_guid": "b1076dfc-b9ad-4769-8c92-a6c4dae69d19",
        "execution": {
          "iopub.status.busy": "2023-08-22T19:34:00.494945Z",
          "iopub.execute_input": "2023-08-22T19:34:00.495411Z",
          "iopub.status.idle": "2023-08-22T19:34:00.508623Z",
          "shell.execute_reply.started": "2023-08-22T19:34:00.495373Z",
          "shell.execute_reply": "2023-08-22T19:34:00.507259Z"
        },
        "trusted": true,
        "id": "msoUzWzWFjZo"
      },
      "execution_count": null,
      "outputs": []
    },
    {
      "cell_type": "code",
      "source": [
        "import matplotlib.pyplot as plt\n",
        "import seaborn as sns\n",
        "\n",
        "import plotly.express as px\n",
        "import plotly.graph_objects as go\n",
        "import plotly.io as pio\n",
        "\n",
        "import warnings\n",
        "warnings.filterwarnings('ignore')\n"
      ],
      "metadata": {
        "execution": {
          "iopub.status.busy": "2023-08-22T19:34:00.511059Z",
          "iopub.execute_input": "2023-08-22T19:34:00.511429Z",
          "iopub.status.idle": "2023-08-22T19:34:00.522343Z",
          "shell.execute_reply.started": "2023-08-22T19:34:00.511385Z",
          "shell.execute_reply": "2023-08-22T19:34:00.521121Z"
        },
        "trusted": true,
        "id": "hY3eVU12FjZq"
      },
      "execution_count": null,
      "outputs": []
    },
    {
      "cell_type": "markdown",
      "source": [
        "# Reading the data as a Pandas Dataframe"
      ],
      "metadata": {
        "id": "Luvy5oSiFjZq"
      }
    },
    {
      "cell_type": "code",
      "source": [
        "df = pd.read_csv('/kaggle/input/corona-virus-report/country_wise_latest.csv')\n",
        "\n",
        "#Taking a look at the data\n",
        "df.head(20)"
      ],
      "metadata": {
        "execution": {
          "iopub.status.busy": "2023-08-22T19:34:00.52352Z",
          "iopub.execute_input": "2023-08-22T19:34:00.524498Z",
          "iopub.status.idle": "2023-08-22T19:34:00.566373Z",
          "shell.execute_reply.started": "2023-08-22T19:34:00.524454Z",
          "shell.execute_reply": "2023-08-22T19:34:00.565073Z"
        },
        "trusted": true,
        "id": "12pS8HnQFjZr"
      },
      "execution_count": null,
      "outputs": []
    },
    {
      "cell_type": "code",
      "source": [
        "# Reading another csv with dates parsed\n",
        "df1 = pd.read_csv(\"/kaggle/input/corona-virus-report/covid_19_clean_complete.csv\", parse_dates=['Date'])\n",
        "df1.head(10)"
      ],
      "metadata": {
        "execution": {
          "iopub.status.busy": "2023-08-22T19:34:00.569192Z",
          "iopub.execute_input": "2023-08-22T19:34:00.569537Z",
          "iopub.status.idle": "2023-08-22T19:34:00.696475Z",
          "shell.execute_reply.started": "2023-08-22T19:34:00.569508Z",
          "shell.execute_reply": "2023-08-22T19:34:00.695269Z"
        },
        "trusted": true,
        "id": "YhHl-B0LFjZr"
      },
      "execution_count": null,
      "outputs": []
    },
    {
      "cell_type": "code",
      "source": [
        "\n",
        "df2 = pd.read_csv(\"/kaggle/input/corona-virus-report/full_grouped.csv\", parse_dates=['Date'])\n",
        "df2.head()\n",
        "df2.sort_values(by=['Confirmed'], ascending=False)"
      ],
      "metadata": {
        "execution": {
          "iopub.status.busy": "2023-08-22T19:34:00.698082Z",
          "iopub.execute_input": "2023-08-22T19:34:00.69852Z",
          "iopub.status.idle": "2023-08-22T19:34:00.790497Z",
          "shell.execute_reply.started": "2023-08-22T19:34:00.698482Z",
          "shell.execute_reply": "2023-08-22T19:34:00.789089Z"
        },
        "trusted": true,
        "id": "XNuMqo89FjZs"
      },
      "execution_count": null,
      "outputs": []
    },
    {
      "cell_type": "code",
      "source": [
        "df.info()"
      ],
      "metadata": {
        "execution": {
          "iopub.status.busy": "2023-08-22T19:34:00.791979Z",
          "iopub.execute_input": "2023-08-22T19:34:00.792404Z",
          "iopub.status.idle": "2023-08-22T19:34:00.806851Z",
          "shell.execute_reply.started": "2023-08-22T19:34:00.792372Z",
          "shell.execute_reply": "2023-08-22T19:34:00.805503Z"
        },
        "trusted": true,
        "id": "xU6pQ5K_FjZt"
      },
      "execution_count": null,
      "outputs": []
    },
    {
      "cell_type": "code",
      "source": [
        "#Seeing if there are any null values\n",
        "df.isnull().sum()"
      ],
      "metadata": {
        "execution": {
          "iopub.status.busy": "2023-08-22T19:34:00.808617Z",
          "iopub.execute_input": "2023-08-22T19:34:00.809004Z",
          "iopub.status.idle": "2023-08-22T19:34:00.825812Z",
          "shell.execute_reply.started": "2023-08-22T19:34:00.808971Z",
          "shell.execute_reply": "2023-08-22T19:34:00.82454Z"
        },
        "trusted": true,
        "id": "oI8WCOaTFjZu"
      },
      "execution_count": null,
      "outputs": []
    },
    {
      "cell_type": "markdown",
      "source": [
        "**We will visualize the following from this dataset.**\n",
        "* Total number of Confirmed, Deaths, Recovered, and Active cases World Wide\n",
        "* Total Confirmed Cases grouped by WHO Region\n",
        "* Total Deaths grouped by WHO Region\n",
        "* Which Country has the highest Confirmed Cases\n",
        "* Which Country has the highest Death Cases\n",
        "* Confirmed cases over time\n",
        "* Death count over time\n",
        "* Recovered count over time\n",
        "* World map with cases over time, grouped by Country/Region\n"
      ],
      "metadata": {
        "id": "8EfBUPX4FjZw"
      }
    },
    {
      "cell_type": "code",
      "source": [
        "# Total number of Confirmed, Deaths, Recovered and Active cases around the world\n",
        "status_count = ['Confirmed', 'Deaths', 'Recovered', 'Active']\n",
        "\n",
        "#Calculate the sum of specified columns, grouped by status\n",
        "column_sums = df[status_count].sum().plot(kind='bar')\n",
        "plt.xlabel(\"Status\")\n",
        "plt.ylabel(\"Count In Millions\")\n",
        "plt.title(\"Count of Population Status\")"
      ],
      "metadata": {
        "execution": {
          "iopub.status.busy": "2023-08-22T19:34:00.827433Z",
          "iopub.execute_input": "2023-08-22T19:34:00.827787Z",
          "iopub.status.idle": "2023-08-22T19:34:01.202859Z",
          "shell.execute_reply.started": "2023-08-22T19:34:00.827746Z",
          "shell.execute_reply": "2023-08-22T19:34:01.201374Z"
        },
        "trusted": true,
        "id": "hPKE_VxpFjZw"
      },
      "execution_count": null,
      "outputs": []
    },
    {
      "cell_type": "code",
      "source": [
        "# Total Confirmed cases grouped by WHO region\n",
        "Region = df.groupby(by = 'WHO Region').sum()\n",
        "Region.head()"
      ],
      "metadata": {
        "execution": {
          "iopub.status.busy": "2023-08-22T19:34:01.204413Z",
          "iopub.execute_input": "2023-08-22T19:34:01.204764Z",
          "iopub.status.idle": "2023-08-22T19:34:01.230409Z",
          "shell.execute_reply.started": "2023-08-22T19:34:01.20473Z",
          "shell.execute_reply": "2023-08-22T19:34:01.229054Z"
        },
        "trusted": true,
        "id": "vPnoJXH5FjZx"
      },
      "execution_count": null,
      "outputs": []
    },
    {
      "cell_type": "code",
      "source": [
        "Region['Confirmed'].plot(kind='bar')\n",
        "plt.title('Confirmed Cases Grouped By WHO Region')\n",
        "plt.ylabel('Count In Million')"
      ],
      "metadata": {
        "execution": {
          "iopub.status.busy": "2023-08-22T19:34:01.234399Z",
          "iopub.execute_input": "2023-08-22T19:34:01.23477Z",
          "iopub.status.idle": "2023-08-22T19:34:01.594035Z",
          "shell.execute_reply.started": "2023-08-22T19:34:01.234738Z",
          "shell.execute_reply": "2023-08-22T19:34:01.592884Z"
        },
        "trusted": true,
        "id": "g8LBwNn0FjZx"
      },
      "execution_count": null,
      "outputs": []
    },
    {
      "cell_type": "code",
      "source": [
        "# Total Deaths grouped by WHO Region\n",
        "Region['Deaths'].plot(kind='bar')\n",
        "plt.title('Deaths Grouped By WHO Region')\n"
      ],
      "metadata": {
        "execution": {
          "iopub.status.busy": "2023-08-22T19:34:01.595525Z",
          "iopub.execute_input": "2023-08-22T19:34:01.596264Z",
          "iopub.status.idle": "2023-08-22T19:34:01.95511Z",
          "shell.execute_reply.started": "2023-08-22T19:34:01.596222Z",
          "shell.execute_reply": "2023-08-22T19:34:01.953767Z"
        },
        "trusted": true,
        "id": "KNUcoeEcFjZx"
      },
      "execution_count": null,
      "outputs": []
    },
    {
      "cell_type": "code",
      "source": [
        "# Grouping cases by Country/Region\n",
        "grouped = df[[\"Confirmed\", \"Deaths\", \"Recovered\", \"Country/Region\"]]\n",
        "grouped.head()"
      ],
      "metadata": {
        "execution": {
          "iopub.status.busy": "2023-08-22T19:34:01.956775Z",
          "iopub.execute_input": "2023-08-22T19:34:01.95747Z",
          "iopub.status.idle": "2023-08-22T19:34:01.969435Z",
          "shell.execute_reply.started": "2023-08-22T19:34:01.957435Z",
          "shell.execute_reply": "2023-08-22T19:34:01.968586Z"
        },
        "trusted": true,
        "id": "vSI9gJlzFjZx"
      },
      "execution_count": null,
      "outputs": []
    },
    {
      "cell_type": "code",
      "source": [
        "fig = px.bar(grouped, x=\"Country/Region\", y=\"Confirmed\", title=\"Countries Having Highest Confirmed Cases Count\")\n",
        "fig.show()"
      ],
      "metadata": {
        "execution": {
          "iopub.status.busy": "2023-08-22T19:34:01.970507Z",
          "iopub.execute_input": "2023-08-22T19:34:01.971108Z",
          "iopub.status.idle": "2023-08-22T19:34:02.054492Z",
          "shell.execute_reply.started": "2023-08-22T19:34:01.971075Z",
          "shell.execute_reply": "2023-08-22T19:34:02.053318Z"
        },
        "trusted": true,
        "id": "j14ioZaLFjZx"
      },
      "execution_count": null,
      "outputs": []
    },
    {
      "cell_type": "code",
      "source": [
        "fig = px.bar(grouped, x=\"Country/Region\", y=\"Deaths\", title=\"Countries Having Highest Deaths\")\n",
        "fig.show()"
      ],
      "metadata": {
        "execution": {
          "iopub.status.busy": "2023-08-22T19:34:02.055994Z",
          "iopub.execute_input": "2023-08-22T19:34:02.056342Z",
          "iopub.status.idle": "2023-08-22T19:34:02.131089Z",
          "shell.execute_reply.started": "2023-08-22T19:34:02.056312Z",
          "shell.execute_reply": "2023-08-22T19:34:02.129822Z"
        },
        "trusted": true,
        "id": "ckTkgWQiFjZy"
      },
      "execution_count": null,
      "outputs": []
    },
    {
      "cell_type": "code",
      "source": [
        "# Grouping cases by date\n",
        "date_stats = df1.groupby('Date')['Date', 'Confirmed', 'Deaths', 'Recovered', 'Country/Region'].sum().reset_index()\n",
        "date_stats.head()\n"
      ],
      "metadata": {
        "execution": {
          "iopub.status.busy": "2023-08-22T19:34:02.132494Z",
          "iopub.execute_input": "2023-08-22T19:34:02.132805Z",
          "iopub.status.idle": "2023-08-22T19:34:02.153243Z",
          "shell.execute_reply.started": "2023-08-22T19:34:02.132777Z",
          "shell.execute_reply": "2023-08-22T19:34:02.151511Z"
        },
        "trusted": true,
        "id": "jigI4Q_3FjZy"
      },
      "execution_count": null,
      "outputs": []
    },
    {
      "cell_type": "code",
      "source": [
        "date_stats.tail()"
      ],
      "metadata": {
        "execution": {
          "iopub.status.busy": "2023-08-22T19:34:02.154655Z",
          "iopub.execute_input": "2023-08-22T19:34:02.155156Z",
          "iopub.status.idle": "2023-08-22T19:34:02.16731Z",
          "shell.execute_reply.started": "2023-08-22T19:34:02.155123Z",
          "shell.execute_reply": "2023-08-22T19:34:02.166039Z"
        },
        "trusted": true,
        "id": "Q17I84ncFjZy"
      },
      "execution_count": null,
      "outputs": []
    },
    {
      "cell_type": "code",
      "source": [
        "px.line(date_stats, x='Date', y='Confirmed', title='World Wide Confirmed Cases')"
      ],
      "metadata": {
        "execution": {
          "iopub.status.busy": "2023-08-22T19:34:02.168968Z",
          "iopub.execute_input": "2023-08-22T19:34:02.169441Z",
          "iopub.status.idle": "2023-08-22T19:34:02.253741Z",
          "shell.execute_reply.started": "2023-08-22T19:34:02.169398Z",
          "shell.execute_reply": "2023-08-22T19:34:02.252322Z"
        },
        "trusted": true,
        "id": "SiozPTafFjZy"
      },
      "execution_count": null,
      "outputs": []
    },
    {
      "cell_type": "code",
      "source": [
        "px.line(date_stats, x='Date', y='Deaths', title='World Wide Deaths')"
      ],
      "metadata": {
        "execution": {
          "iopub.status.busy": "2023-08-22T19:34:02.255779Z",
          "iopub.execute_input": "2023-08-22T19:34:02.256384Z",
          "iopub.status.idle": "2023-08-22T19:34:02.340098Z",
          "shell.execute_reply.started": "2023-08-22T19:34:02.256332Z",
          "shell.execute_reply": "2023-08-22T19:34:02.338823Z"
        },
        "trusted": true,
        "id": "Fd_RTyx_FjZy"
      },
      "execution_count": null,
      "outputs": []
    },
    {
      "cell_type": "code",
      "source": [
        "px.line(date_stats, x='Date', y='Recovered', title='World Wide Recovered')"
      ],
      "metadata": {
        "execution": {
          "iopub.status.busy": "2023-08-22T19:34:02.34152Z",
          "iopub.execute_input": "2023-08-22T19:34:02.341906Z",
          "iopub.status.idle": "2023-08-22T19:34:02.430647Z",
          "shell.execute_reply.started": "2023-08-22T19:34:02.341874Z",
          "shell.execute_reply": "2023-08-22T19:34:02.429604Z"
        },
        "trusted": true,
        "id": "y5QehvRTFjZz"
      },
      "execution_count": null,
      "outputs": []
    },
    {
      "cell_type": "code",
      "source": [
        "fig = px.choropleth(df1, locations=\"Country/Region\",\n",
        "                    color=np.log(df1[\"Confirmed\"]),\n",
        "                    locationmode='country names', hover_name=\"Country/Region\",\n",
        "                    animation_frame=df1[\"Date\"].dt.strftime('%Y-%m-%d'),\n",
        "                    title='Cases over time', color_continuous_scale=px.colors.sequential.matter)\n",
        "\n",
        "fig.show()"
      ],
      "metadata": {
        "execution": {
          "iopub.status.busy": "2023-08-22T19:34:02.432149Z",
          "iopub.execute_input": "2023-08-22T19:34:02.432491Z",
          "iopub.status.idle": "2023-08-22T19:34:03.525807Z",
          "shell.execute_reply.started": "2023-08-22T19:34:02.432462Z",
          "shell.execute_reply": "2023-08-22T19:34:03.524257Z"
        },
        "trusted": true,
        "id": "CC6Qlq5AFjZz"
      },
      "execution_count": null,
      "outputs": []
    }
  ]
}